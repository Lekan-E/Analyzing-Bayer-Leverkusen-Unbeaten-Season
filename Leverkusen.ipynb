{
 "cells": [
  {
   "cell_type": "code",
   "execution_count": 1,
   "metadata": {},
   "outputs": [],
   "source": [
    "import pandas as pd\n",
    "from statsbombpy import sb\n",
    "\n",
    "import requests\n",
    "import json\n",
    "import http.client\n",
    "import json\n",
    "import math\n",
    "import numpy as np\n",
    "\n",
    "from bs4 import BeautifulSoup"
   ]
  },
  {
   "cell_type": "markdown",
   "metadata": {},
   "source": [
    "Competitions - sb.competitions()\n",
    "Matches - sb.matches(competition_id=9, season_id=42)\n",
    "Lineups - sb.lineups(match_id=303299)\n",
    "Events - sb.events(match_id=303299)\n",
    "\n",
    "Competition Events - events = sb.competition_events(\n",
    "    country=\"Germany\",\n",
    "    division= \"1. Bundesliga\",\n",
    "    season=\"2019/2020\",\n",
    "    gender=\"male\"\n",
    ")\n",
    "\n",
    "grouped_events = sb.competition_events(\n",
    "    country=\"Germany\",\n",
    "    division= \"1. Bundesliga\",\n",
    "    season=\"2019/2020\",\n",
    "    split=True\n",
    ")\n",
    "grouped_events[\"dribbles\"]\n",
    "\n",
    "360 data\n",
    "match_frames = sb.frames(match_id=3895302, fmt='dataframe')\n",
    "comp_frames = sb.competition_frames(\n",
    "    country=\"Germany\",\n",
    "    division= \"1. Bundesliga\",\n",
    "    season=\"2023/2024\"\n",
    ")"
   ]
  },
  {
   "cell_type": "code",
   "execution_count": null,
   "metadata": {},
   "outputs": [],
   "source": [
    "team = 'Bayer Leverkusen'\n",
    "\n",
    "# Get all the match_ids\n",
    "matches_df = sb.matches(competition_id=9, season_id=281)\n",
    "match_list = matches_df['match_id'].to_list()\n",
    "\n",
    "# Define a finctuoin the uses the scores to determine a win, draw or lose\n",
    "def opponent(row):\n",
    "    \n",
    "    if row['home_team'] == team:\n",
    "        return row['away_team']\n",
    "    elif row['away_team'] == team:\n",
    "        return row['home_team']\n",
    "    else:\n",
    "        return None\n",
    "    \n",
    "matches_df['opponent'] = matches_df.apply(opponent, axis = 1)\n",
    "matches_df.head(10)\n",
    "# Export players info\n",
    "#matches_df.to_csv(r'./MatchInfo.csv', index=False)"
   ]
  },
  {
   "cell_type": "code",
   "execution_count": 4,
   "metadata": {},
   "outputs": [
    {
     "data": {
      "text/html": [
       "<div>\n",
       "<style scoped>\n",
       "    .dataframe tbody tr th:only-of-type {\n",
       "        vertical-align: middle;\n",
       "    }\n",
       "\n",
       "    .dataframe tbody tr th {\n",
       "        vertical-align: top;\n",
       "    }\n",
       "\n",
       "    .dataframe thead th {\n",
       "        text-align: right;\n",
       "    }\n",
       "</style>\n",
       "<table border=\"1\" class=\"dataframe\">\n",
       "  <thead>\n",
       "    <tr style=\"text-align: right;\">\n",
       "      <th></th>\n",
       "      <th>match_id</th>\n",
       "      <th>match_date</th>\n",
       "      <th>kick_off</th>\n",
       "      <th>competition</th>\n",
       "      <th>season</th>\n",
       "      <th>home_team</th>\n",
       "      <th>away_team</th>\n",
       "      <th>home_score</th>\n",
       "      <th>away_score</th>\n",
       "      <th>match_status</th>\n",
       "      <th>...</th>\n",
       "      <th>match_week</th>\n",
       "      <th>competition_stage</th>\n",
       "      <th>stadium</th>\n",
       "      <th>referee</th>\n",
       "      <th>home_managers</th>\n",
       "      <th>away_managers</th>\n",
       "      <th>data_version</th>\n",
       "      <th>shot_fidelity_version</th>\n",
       "      <th>xy_fidelity_version</th>\n",
       "      <th>opponent</th>\n",
       "    </tr>\n",
       "  </thead>\n",
       "  <tbody>\n",
       "    <tr>\n",
       "      <th>2</th>\n",
       "      <td>3895333</td>\n",
       "      <td>2024-05-05</td>\n",
       "      <td>18:30:00.000</td>\n",
       "      <td>Germany - 1. Bundesliga</td>\n",
       "      <td>2023/2024</td>\n",
       "      <td>Eintracht Frankfurt</td>\n",
       "      <td>Bayer Leverkusen</td>\n",
       "      <td>1</td>\n",
       "      <td>5</td>\n",
       "      <td>available</td>\n",
       "      <td>...</td>\n",
       "      <td>32</td>\n",
       "      <td>Regular Season</td>\n",
       "      <td>Deutsche Bank Park</td>\n",
       "      <td>Christian Dingert</td>\n",
       "      <td>Dino Toppmöller</td>\n",
       "      <td>Xabier Alonso Olano</td>\n",
       "      <td>1.1.0</td>\n",
       "      <td>2</td>\n",
       "      <td>2</td>\n",
       "      <td>Eintracht Frankfurt</td>\n",
       "    </tr>\n",
       "  </tbody>\n",
       "</table>\n",
       "<p>1 rows × 23 columns</p>\n",
       "</div>"
      ],
      "text/plain": [
       "   match_id  match_date      kick_off              competition     season  \\\n",
       "2   3895333  2024-05-05  18:30:00.000  Germany - 1. Bundesliga  2023/2024   \n",
       "\n",
       "             home_team         away_team  home_score  away_score match_status  \\\n",
       "2  Eintracht Frankfurt  Bayer Leverkusen           1           5    available   \n",
       "\n",
       "   ... match_week competition_stage             stadium            referee  \\\n",
       "2  ...         32    Regular Season  Deutsche Bank Park  Christian Dingert   \n",
       "\n",
       "     home_managers        away_managers data_version shot_fidelity_version  \\\n",
       "2  Dino Toppmöller  Xabier Alonso Olano        1.1.0                     2   \n",
       "\n",
       "  xy_fidelity_version             opponent  \n",
       "2                   2  Eintracht Frankfurt  \n",
       "\n",
       "[1 rows x 23 columns]"
      ]
     },
     "execution_count": 4,
     "metadata": {},
     "output_type": "execute_result"
    }
   ],
   "source": [
    "matches_df[matches_df['match_id'] == 3895333]"
   ]
  },
  {
   "cell_type": "code",
   "execution_count": null,
   "metadata": {},
   "outputs": [],
   "source": [
    "# Get all player_id, player_name, jersey_number and country for all fixtures\n",
    "players_list = []\n",
    "\n",
    "for i in matches_df['match_id']:\n",
    "    lineup = sb.lineups(match_id = i)[team]\n",
    "    fullLineup = lineup[['player_id','player_name','jersey_number','country']]\n",
    "    players_list.append(fullLineup)\n",
    "\n",
    "players_df = pd.concat(players_list, axis=0, ignore_index=True).drop_duplicates().reset_index(drop=True)\n",
    "\n",
    "# Export players info\n",
    "# players_df.to_csv(r'./PlayersList.csv', index=False)"
   ]
  },
  {
   "cell_type": "code",
   "execution_count": null,
   "metadata": {},
   "outputs": [],
   "source": [
    "#Store event data\n",
    "events_list = []\n",
    "\n",
    "for i in matches_df['match_id']:\n",
    "    m_events = sb.events(i)\n",
    "    m_events['match_id'] = i # Column to store the match_id\n",
    "    events_list.append(m_events)\n",
    "\n",
    "# Join the dataframes into a single one\n",
    "events_df = pd.concat(events_list, axis = 0, ignore_index=True)\n",
    "\n",
    "# Split columns\n",
    "events_df[['location_x', 'location_y']] = events_df['location'].apply(pd.Series)\n",
    "events_df[['pass_end_location_x', 'pass_end_location_y']] = events_df['pass_end_location'].apply(pd.Series)\n",
    "events_df['shot_end_location'] = events_df['shot_end_location'].astype(str)\n",
    "events_df[['shot_end_location_x', 'shot_end_location_y', 'shot_end_location_z']] = events_df['shot_end_location'].str.strip('[]').str.split(', ', expand=True)"
   ]
  },
  {
   "cell_type": "markdown",
   "metadata": {},
   "source": [
    "# Passing"
   ]
  },
  {
   "cell_type": "code",
   "execution_count": 26,
   "metadata": {},
   "outputs": [
    {
     "name": "stderr",
     "output_type": "stream",
     "text": [
      "C:\\Users\\Razak\\AppData\\Local\\Temp\\ipykernel_12880\\1536929201.py:21: SettingWithCopyWarning: \n",
      "A value is trying to be set on a copy of a slice from a DataFrame.\n",
      "Try using .loc[row_indexer,col_indexer] = value instead\n",
      "\n",
      "See the caveats in the documentation: https://pandas.pydata.org/pandas-docs/stable/user_guide/indexing.html#returning-a-view-versus-a-copy\n",
      "  passNetworkDF['pass_success'] = passNetworkDF.apply(passoutcome, axis = 1)\n"
     ]
    }
   ],
   "source": [
    "# Get Leverkusen Passes\n",
    "allpass_df = events_df[(events_df['type'] == 'Pass') & (events_df['team'] == team)]\n",
    "#completePass_df = allpass_df[allpass_df['pass_outcome'].isna() == True]\n",
    "\n",
    "# Filter needed data\n",
    "passNetworkDF = allpass_df[['id','match_id','period','minute','player','player_id','position',\n",
    "                'location_x','location_y','pass_recipient','pass_recipient_id',\n",
    "                'pass_end_location_x','pass_end_location_y','pass_type','pass_technique',\n",
    "                'pass_height','pass_length','pass_outcome','shot_outcome','pass_goal_assist']]\n",
    "\n",
    "def passoutcome(row):\n",
    "    if pd.isna(row['pass_outcome']):\n",
    "        return 'complete'\n",
    "    elif row['pass_outcome'] == 'Incomplete':\n",
    "        return 'incomplete'\n",
    "    else:\n",
    "        return None\n",
    "    \n",
    "\n",
    "# Applky the function and create a new column\n",
    "passNetworkDF['pass_success'] = passNetworkDF.apply(passoutcome, axis = 1)\n",
    "\n",
    "# Reset index\n",
    "passNetworkDF.reset_index(drop=True, inplace=True)\n",
    "\n",
    "# # Assign assists\n",
    "for i in range(len(passNetworkDF)):  # Start from 1 to avoid index error\n",
    "    if (passNetworkDF.loc[i, 'pass_goal_assist'] == True):\n",
    "        # Replace pass success to the assist\n",
    "        passNetworkDF.at[i, 'pass_success'] = 'GoalAssist'\n",
    "\n",
    "# Filter pass outcome for only incomplete and nan/complete passes\n",
    "fullpassNetworkDF = passNetworkDF[(passNetworkDF['pass_outcome'].isna() == True) | (passNetworkDF['pass_outcome'] == 'Incomplete')]\n",
    "\n",
    "# if 'pass_outcome' isna == True then assign complete\n",
    "# is != True then assign Nan value\n",
    "\n",
    "fullpassmap = fullpassNetworkDF.reset_index(drop=True)\n",
    "fullpassmap['player_id'] = fullpassmap['player_id'].astype(int)\n",
    "#fullpassmap.to_csv(r'./FullPassMap.csv', index=False)"
   ]
  },
  {
   "cell_type": "code",
   "execution_count": 24,
   "metadata": {},
   "outputs": [
    {
     "data": {
      "text/plain": [
       "player\n",
       "Alejandro Grimaldo García         13\n",
       "Florian Wirtz                     10\n",
       "Victor Okoh Boniface               8\n",
       "Jonas Hofmann                      7\n",
       "Jeremie Frimpong                   7\n",
       "Amine Adli                         5\n",
       "Exequiel Alejandro Palacios        4\n",
       "Robert Andrich                     2\n",
       "Adam Hložek                        2\n",
       "Arthur Augusto de Matos Soares     2\n",
       "Nathan Tella                       2\n",
       "Josip Stanišić                     1\n",
       "Jonathan Tah                       1\n",
       "Edmond Fayçal Tapsoba              1\n",
       "Piero Martín Hincapié Reyna        1\n",
       "Noah Mbamba                        1\n",
       "Name: count, dtype: int64"
      ]
     },
     "execution_count": 24,
     "metadata": {},
     "output_type": "execute_result"
    }
   ],
   "source": [
    "allpass_df[allpass_df['pass_goal_assist'] == True]['player'].value_counts()"
   ]
  },
  {
   "cell_type": "code",
   "execution_count": 17,
   "metadata": {},
   "outputs": [
    {
     "data": {
      "text/plain": [
       "player\n",
       "Florian Wirtz                  22\n",
       "Granit Xhaka                   19\n",
       "Alejandro Grimaldo García      15\n",
       "Exequiel Alejandro Palacios     9\n",
       "Victor Okoh Boniface            7\n",
       "Edmond Fayçal Tapsoba           7\n",
       "Jeremie Frimpong                7\n",
       "Odilon Kossonou                 6\n",
       "Robert Andrich                  5\n",
       "Jonas Hofmann                   5\n",
       "Amine Adli                      4\n",
       "Piero Martín Hincapié Reyna     3\n",
       "Josip Stanišić                  3\n",
       "Nathan Tella                    2\n",
       "Patrik Schick                   1\n",
       "Name: count, dtype: int64"
      ]
     },
     "execution_count": 17,
     "metadata": {},
     "output_type": "execute_result"
    }
   ],
   "source": [
    "allpass_df[allpass_df['pass_technique'] == 'Through Ball']['player'].value_counts()"
   ]
  },
  {
   "cell_type": "code",
   "execution_count": 16,
   "metadata": {},
   "outputs": [
    {
     "data": {
      "text/plain": [
       "player\n",
       "Alejandro Grimaldo García         106\n",
       "Jeremie Frimpong                   95\n",
       "Jonas Hofmann                      52\n",
       "Florian Wirtz                      50\n",
       "Nathan Tella                       27\n",
       "Amine Adli                         27\n",
       "Josip Stanišić                     12\n",
       "Robert Andrich                     11\n",
       "Victor Okoh Boniface               11\n",
       "Arthur Augusto de Matos Soares      9\n",
       "Granit Xhaka                        9\n",
       "Piero Martín Hincapié Reyna         7\n",
       "Exequiel Alejandro Palacios         6\n",
       "Edmond Fayçal Tapsoba               5\n",
       "Jonathan Tah                        4\n",
       "Adam Hložek                         2\n",
       "Patrik Schick                       2\n",
       "Odilon Kossonou                     1\n",
       "Borja Iglesias Quintas              1\n",
       "Noah Mbamba                         1\n",
       "Name: count, dtype: int64"
      ]
     },
     "execution_count": 16,
     "metadata": {},
     "output_type": "execute_result"
    }
   ],
   "source": [
    "allpass_df[allpass_df['pass_cross'] == True]['player'].value_counts()"
   ]
  },
  {
   "cell_type": "markdown",
   "metadata": {},
   "source": [
    "### GameWeek Pass Network"
   ]
  },
  {
   "cell_type": "code",
   "execution_count": 11,
   "metadata": {},
   "outputs": [],
   "source": [
    "# Get completed passes\n",
    "completePasses = fullpassNetworkDF[fullpassNetworkDF['pass_success'] == 'complete']\n",
    "\n",
    "avgLocationperGame = completePasses.groupby(['player','match_id']).agg({'location_x': ['mean'], 'location_y':['mean','count']})\n",
    "avgLocationperGame.columns = ['location_x','location_y','count']"
   ]
  },
  {
   "cell_type": "code",
   "execution_count": 12,
   "metadata": {},
   "outputs": [],
   "source": [
    "passBetween = completePasses.groupby(['player','pass_recipient','match_id']).id.count().reset_index()\n",
    "passBetween.rename({'id':'pass_count'}, axis='columns', inplace=True)"
   ]
  },
  {
   "cell_type": "code",
   "execution_count": 13,
   "metadata": {},
   "outputs": [],
   "source": [
    "passBetween = passBetween.merge(avgLocationperGame, left_on = ['player','match_id'], right_index=True)\n",
    "passBetween = passBetween.merge(avgLocationperGame, left_on= ['pass_recipient','match_id'], right_index=True, suffixes=['','_end'])"
   ]
  },
  {
   "cell_type": "code",
   "execution_count": 14,
   "metadata": {},
   "outputs": [],
   "source": [
    "#meanCount = passBetween['pass_count'].mean()\n",
    "passBetween = passBetween[passBetween['pass_count'] > 1]\n",
    "#passBetween.to_csv(r'./FullPassNetwork.csv', index=False)"
   ]
  },
  {
   "cell_type": "code",
   "execution_count": 15,
   "metadata": {},
   "outputs": [],
   "source": [
    "rwRecords = passBetween[['match_id']].drop_duplicates().sort_values(by='match_id').reset_index(drop=True)\n",
    "rwRecords = pd.DataFrame(rwRecords)\n",
    "rwRecords['matchWeek'] = rwRecords.index + 1\n",
    "\n",
    "rwRecords.index = rwRecords.index.astype(int)\n",
    "\n",
    "rwRecords['Column'] = rwRecords.index % 5\n",
    "rwRecords['Row'] = (rwRecords.index // 5) % 7\n",
    "\n",
    "rwRecords.reset_index(drop=True, inplace=True)\n",
    "#rwRecords.to_csv(r'./PassNetworkSmallMultiples.csv', index=False)"
   ]
  },
  {
   "cell_type": "markdown",
   "metadata": {},
   "source": [
    "### Average Pass Networkn (Season)"
   ]
  },
  {
   "cell_type": "code",
   "execution_count": 16,
   "metadata": {},
   "outputs": [
    {
     "data": {
      "text/html": [
       "<div>\n",
       "<style scoped>\n",
       "    .dataframe tbody tr th:only-of-type {\n",
       "        vertical-align: middle;\n",
       "    }\n",
       "\n",
       "    .dataframe tbody tr th {\n",
       "        vertical-align: top;\n",
       "    }\n",
       "\n",
       "    .dataframe thead th {\n",
       "        text-align: right;\n",
       "    }\n",
       "</style>\n",
       "<table border=\"1\" class=\"dataframe\">\n",
       "  <thead>\n",
       "    <tr style=\"text-align: right;\">\n",
       "      <th></th>\n",
       "      <th>location_x</th>\n",
       "      <th>location_y</th>\n",
       "      <th>count</th>\n",
       "    </tr>\n",
       "    <tr>\n",
       "      <th>player</th>\n",
       "      <th></th>\n",
       "      <th></th>\n",
       "      <th></th>\n",
       "    </tr>\n",
       "  </thead>\n",
       "  <tbody>\n",
       "    <tr>\n",
       "      <th>Adam Hložek</th>\n",
       "      <td>71.939535</td>\n",
       "      <td>37.231008</td>\n",
       "      <td>129</td>\n",
       "    </tr>\n",
       "    <tr>\n",
       "      <th>Alejandro Grimaldo García</th>\n",
       "      <td>70.465198</td>\n",
       "      <td>14.052316</td>\n",
       "      <td>1770</td>\n",
       "    </tr>\n",
       "    <tr>\n",
       "      <th>Amine Adli</th>\n",
       "      <td>77.263144</td>\n",
       "      <td>27.126829</td>\n",
       "      <td>369</td>\n",
       "    </tr>\n",
       "    <tr>\n",
       "      <th>Arthur Augusto de Matos Soares</th>\n",
       "      <td>70.610870</td>\n",
       "      <td>25.894565</td>\n",
       "      <td>92</td>\n",
       "    </tr>\n",
       "    <tr>\n",
       "      <th>Borja Iglesias Quintas</th>\n",
       "      <td>84.240000</td>\n",
       "      <td>34.005000</td>\n",
       "      <td>60</td>\n",
       "    </tr>\n",
       "  </tbody>\n",
       "</table>\n",
       "</div>"
      ],
      "text/plain": [
       "                                location_x  location_y  count\n",
       "player                                                       \n",
       "Adam Hložek                      71.939535   37.231008    129\n",
       "Alejandro Grimaldo García        70.465198   14.052316   1770\n",
       "Amine Adli                       77.263144   27.126829    369\n",
       "Arthur Augusto de Matos Soares   70.610870   25.894565     92\n",
       "Borja Iglesias Quintas           84.240000   34.005000     60"
      ]
     },
     "execution_count": 16,
     "metadata": {},
     "output_type": "execute_result"
    }
   ],
   "source": [
    "avgLocationperGame = completePasses.groupby(['player']).agg({'location_x': ['mean'], 'location_y':['mean','count']})\n",
    "avgLocationperGame.columns = ['location_x','location_y','count']\n",
    "avgLocationperGame.head()"
   ]
  },
  {
   "cell_type": "code",
   "execution_count": 17,
   "metadata": {},
   "outputs": [
    {
     "data": {
      "text/html": [
       "<div>\n",
       "<style scoped>\n",
       "    .dataframe tbody tr th:only-of-type {\n",
       "        vertical-align: middle;\n",
       "    }\n",
       "\n",
       "    .dataframe tbody tr th {\n",
       "        vertical-align: top;\n",
       "    }\n",
       "\n",
       "    .dataframe thead th {\n",
       "        text-align: right;\n",
       "    }\n",
       "</style>\n",
       "<table border=\"1\" class=\"dataframe\">\n",
       "  <thead>\n",
       "    <tr style=\"text-align: right;\">\n",
       "      <th></th>\n",
       "      <th>player</th>\n",
       "      <th>pass_recipient</th>\n",
       "      <th>pass_count</th>\n",
       "    </tr>\n",
       "  </thead>\n",
       "  <tbody>\n",
       "    <tr>\n",
       "      <th>0</th>\n",
       "      <td>Adam Hložek</td>\n",
       "      <td>Alejandro Grimaldo García</td>\n",
       "      <td>17</td>\n",
       "    </tr>\n",
       "    <tr>\n",
       "      <th>1</th>\n",
       "      <td>Adam Hložek</td>\n",
       "      <td>Amine Adli</td>\n",
       "      <td>4</td>\n",
       "    </tr>\n",
       "    <tr>\n",
       "      <th>2</th>\n",
       "      <td>Adam Hložek</td>\n",
       "      <td>Arthur Augusto de Matos Soares</td>\n",
       "      <td>6</td>\n",
       "    </tr>\n",
       "    <tr>\n",
       "      <th>3</th>\n",
       "      <td>Adam Hložek</td>\n",
       "      <td>Borja Iglesias Quintas</td>\n",
       "      <td>2</td>\n",
       "    </tr>\n",
       "    <tr>\n",
       "      <th>4</th>\n",
       "      <td>Adam Hložek</td>\n",
       "      <td>Edmond Fayçal Tapsoba</td>\n",
       "      <td>2</td>\n",
       "    </tr>\n",
       "  </tbody>\n",
       "</table>\n",
       "</div>"
      ],
      "text/plain": [
       "        player                  pass_recipient  pass_count\n",
       "0  Adam Hložek       Alejandro Grimaldo García          17\n",
       "1  Adam Hložek                      Amine Adli           4\n",
       "2  Adam Hložek  Arthur Augusto de Matos Soares           6\n",
       "3  Adam Hložek          Borja Iglesias Quintas           2\n",
       "4  Adam Hložek           Edmond Fayçal Tapsoba           2"
      ]
     },
     "execution_count": 17,
     "metadata": {},
     "output_type": "execute_result"
    }
   ],
   "source": [
    "passBetween = completePasses.groupby(['player','pass_recipient']).id.count().reset_index()\n",
    "passBetween.rename({'id':'pass_count'}, axis='columns', inplace=True)\n",
    "passBetween.head()"
   ]
  },
  {
   "cell_type": "code",
   "execution_count": 18,
   "metadata": {},
   "outputs": [],
   "source": [
    "passBetween = passBetween.merge(avgLocationperGame, left_on = ['player'], right_index=True)\n",
    "passBetween = passBetween.merge(avgLocationperGame, left_on= ['pass_recipient'], right_index=True, suffixes=['','_end'])"
   ]
  },
  {
   "cell_type": "code",
   "execution_count": 19,
   "metadata": {},
   "outputs": [],
   "source": [
    "passBetween = passBetween[passBetween['pass_count'] > 55]"
   ]
  },
  {
   "cell_type": "code",
   "execution_count": 20,
   "metadata": {},
   "outputs": [],
   "source": [
    "#passBetween.to_csv(r'./SeasonPassNetwork.csv', index=False)"
   ]
  },
  {
   "cell_type": "markdown",
   "metadata": {},
   "source": [
    "### Passmap"
   ]
  },
  {
   "cell_type": "code",
   "execution_count": 22,
   "metadata": {},
   "outputs": [
    {
     "name": "stderr",
     "output_type": "stream",
     "text": [
      "C:\\Users\\Razak\\AppData\\Local\\Temp\\ipykernel_11356\\1965100703.py:18: SettingWithCopyWarning: \n",
      "A value is trying to be set on a copy of a slice from a DataFrame.\n",
      "Try using .loc[row_indexer,col_indexer] = value instead\n",
      "\n",
      "See the caveats in the documentation: https://pandas.pydata.org/pandas-docs/stable/user_guide/indexing.html#returning-a-view-versus-a-copy\n",
      "  passMapDF['pass_success'] = passMapDF.apply(passoutcome, axis = 1)\n"
     ]
    }
   ],
   "source": [
    "passMap = events_df[events_df['team'] == team]\n",
    "\n",
    "# Filter needed data\n",
    "passMapDF = passMap[['id','match_id','period','minute','player','player_id','position',\n",
    "                'location_x','location_y','pass_recipient','pass_recipient_id',\n",
    "                'pass_end_location_x','pass_end_location_y','pass_type',\n",
    "                'pass_height','pass_length','pass_outcome','shot_outcome','pass_goal_assist']]\n",
    "\n",
    "def passoutcome(row):\n",
    "    if pd.isna(row['pass_outcome']):\n",
    "        return 'complete'\n",
    "    elif row['pass_outcome'] == 'Incomplete':\n",
    "        return 'incomplete'\n",
    "    else:\n",
    "        return None\n",
    "    \n",
    "# Apply the function and create a new column\n",
    "passMapDF['pass_success'] = passMapDF.apply(passoutcome, axis = 1)\n",
    "\n",
    "# Reset index\n",
    "passMapDF.reset_index(drop=True, inplace=True)\n",
    "\n",
    "# # Assign assists\n",
    "for i in range(len(passMapDF)):  # Start from 1 to avoid index error\n",
    "    if (passMapDF.loc[i, 'pass_goal_assist'] == True):\n",
    "        # Replace pass success to the assist\n",
    "        passMapDF.at[i, 'pass_success'] = 'GoalAssist'\n",
    "\n",
    "#passMapDF.head()"
   ]
  },
  {
   "cell_type": "markdown",
   "metadata": {},
   "source": [
    "# Average Position"
   ]
  },
  {
   "cell_type": "code",
   "execution_count": 23,
   "metadata": {},
   "outputs": [],
   "source": [
    "leverkusenDF = events_df[events_df['team'] == team]\n",
    "a = leverkusenDF[['player','player_id','position','location_x','location_y','minute']]\n",
    "\n",
    "b = a.groupby(['position']).agg({'location_x': ['mean'], 'location_y':['mean','count']})\n",
    "b.columns = ['_'.join(col).strip() if col[1] else col[0] for col in b.columns.values]\n",
    "c = b.reset_index()\n",
    "#c['player_id'] = c['player_id'].astype(int)\n",
    "dd = c.sort_values('location_y_count', ascending=False)\n",
    "#dd.to_csv(r'./AveragePositionbyName.csv', index=False)"
   ]
  },
  {
   "cell_type": "code",
   "execution_count": 24,
   "metadata": {},
   "outputs": [],
   "source": [
    "b = a.groupby(['player','player_id']).agg({'location_x': ['mean'], 'location_y':['mean','count']})\n",
    "b.columns = ['_'.join(col).strip() if col[1] else col[0] for col in b.columns.values]\n",
    "c = b.reset_index()\n",
    "c['player_id'] = c['player_id'].astype(int)\n",
    "d = c.sort_values('location_y_count', ascending=False)\n",
    "#d.to_csv(r'./AveragePosition.csv', index=False)"
   ]
  },
  {
   "cell_type": "markdown",
   "metadata": {},
   "source": [
    "# xG Plot"
   ]
  },
  {
   "cell_type": "code",
   "execution_count": 6,
   "metadata": {},
   "outputs": [],
   "source": [
    "xg_df = events_df[events_df['type'] == 'Shot']\n",
    "a = xg_df[['match_id','team','shot_statsbomb_xg','shot_outcome']]\n",
    "b = a.groupby(['match_id','team']).sum('shot_statsbomb_xg').reset_index()\n",
    "c = b.sort_values('match_id')\n",
    "\n",
    "\n",
    "def xflag(row):\n",
    "    if row['team'] == team:\n",
    "        return 'xG Created'\n",
    "    elif row['team'] != team:\n",
    "        return 'xG Conceded'\n",
    "    else:\n",
    "        return None\n",
    "\n",
    "c['xFlag'] = c.apply(xflag, axis = 1)\n",
    "#c.to_csv(r'./xGValues.csv', index =False)"
   ]
  },
  {
   "cell_type": "code",
   "execution_count": 27,
   "metadata": {},
   "outputs": [
    {
     "data": {
      "text/plain": [
       "xFlag\n",
       "xG Conceded    27.807305\n",
       "xG Created     72.695292\n",
       "Name: shot_statsbomb_xg, dtype: float64"
      ]
     },
     "execution_count": 27,
     "metadata": {},
     "output_type": "execute_result"
    }
   ],
   "source": [
    "c.groupby('xFlag').sum()['shot_statsbomb_xg']"
   ]
  },
  {
   "cell_type": "markdown",
   "metadata": {},
   "source": [
    "# League Table"
   ]
  },
  {
   "cell_type": "code",
   "execution_count": 28,
   "metadata": {},
   "outputs": [],
   "source": [
    "# For loop that scrapes \n",
    "for gameweek in range(1,35):\n",
    "    url = f'https://www.transfermarkt.com/bundesliga/spieltagtabelle/wettbewerb/L1?saison_id=2023&spieltag={gameweek}'\n",
    "    response = requests.get(url, headers=headers)\n",
    "    soup = BeautifulSoup(response.content, \"html.parser\")\n",
    "    ab = soup.select('div[class=\"box\"] table[class=\"items\"] tbody')[0]\n",
    "    c = ab.text.split('\\n')\n",
    "    d = [item for item in c if item.strip()]\n",
    "    print('Gameweek ' + str(gameweek))\n",
    "    for i in range(0, len(d), 3):\n",
    "        joined = d[i].strip() + ' ' + d[i+1].strip()\n",
    "        print(joined)    "
   ]
  },
  {
   "cell_type": "code",
   "execution_count": 29,
   "metadata": {},
   "outputs": [],
   "source": [
    "lg_standing = pd.read_csv(r'./League Position.csv')\n",
    "lg_standing.head()\n"
   ]
  },
  {
   "cell_type": "code",
   "execution_count": 30,
   "metadata": {},
   "outputs": [],
   "source": [
    "lg_standing = lg_standing.iloc[:,1:]\n",
    "lg_standing = lg_standing.T #Transpose\n",
    "lg_standing.columns = lg_standing.iloc[0]\n",
    "lg_standing = lg_standing.iloc[1:]\n",
    "lg_standing.head()"
   ]
  },
  {
   "cell_type": "code",
   "execution_count": 31,
   "metadata": {},
   "outputs": [],
   "source": [
    "#lg_standing.to_csv(r'./LeagueStanding.csv', index=True)"
   ]
  },
  {
   "cell_type": "markdown",
   "metadata": {},
   "source": [
    "# Shotmap / Goal location"
   ]
  },
  {
   "cell_type": "code",
   "execution_count": 32,
   "metadata": {},
   "outputs": [
    {
     "data": {
      "text/plain": [
       "array([nan, 'Blocked', 'Saved', 'Wayward', 'Goal', 'Post', 'Off T',\n",
       "       'Saved Off Target', 'Saved to Post'], dtype=object)"
      ]
     },
     "execution_count": 32,
     "metadata": {},
     "output_type": "execute_result"
    }
   ],
   "source": [
    "events_df['shot_outcome'].unique()"
   ]
  },
  {
   "cell_type": "code",
   "execution_count": 33,
   "metadata": {},
   "outputs": [],
   "source": [
    "goalDf = events_df[events_df['shot_outcome'] == 'Goal']"
   ]
  },
  {
   "cell_type": "code",
   "execution_count": 7,
   "metadata": {},
   "outputs": [],
   "source": [
    "shotmapDf = xg_df[['id','match_id','minute','player','player_id','shot_body_part',\n",
    "        'shot_outcome', 'shot_statsbomb_xg','location_x', 'location_y','shot_end_location_x',\n",
    "        'shot_end_location_y', 'shot_end_location_z','team', 'team_id']].reset_index(drop=True)\n",
    "shotmapDf['player_id'] = shotmapDf['player_id'].astype(int)\n"
   ]
  },
  {
   "cell_type": "code",
   "execution_count": 8,
   "metadata": {},
   "outputs": [],
   "source": [
    "shotmapDf.loc[shotmapDf['team'] != team, 'location_x'] = 120 - shotmapDf['location_x']\n",
    "#shotmapDf.loc[shotmapDf['team'] != team, 'location_y'] = 80 - shotmapDf['location_y']\n",
    "\n",
    "shotmapDf.loc[shotmapDf['team'] != team, 'shot_end_location_x'] = 120 - shotmapDf['shot_end_location_x'].astype(float)\n",
    "#shotmapDf.loc[shotmapDf['team'] != team, 'shot_end_location_y'] = 80 - shotmapDf['shot_end_location_y'].astype(float)\n",
    "\n",
    "#shotmapDf.to_csv(r'./Shotmap.csv', index=False)"
   ]
  },
  {
   "cell_type": "code",
   "execution_count": 37,
   "metadata": {},
   "outputs": [],
   "source": [
    "rwRecords = shotmapDf[['match_id']].drop_duplicates().sort_values(by='match_id').reset_index(drop=True)\n",
    "rwRecords = pd.DataFrame(rwRecords)\n",
    "rwRecords['matchWeek'] = rwRecords.index + 1\n",
    "\n",
    "rwRecords.index = rwRecords.index.astype(int)\n",
    "\n",
    "rwRecords['Column'] = rwRecords.index % 4\n",
    "rwRecords['Row'] = (rwRecords.index // 4) % 9\n",
    "\n",
    "rwRecords.reset_index(drop=True, inplace=True)\n",
    "#rwRecords.to_csv(r'./GoalSmallMultiples.csv', index=False)\n"
   ]
  },
  {
   "cell_type": "markdown",
   "metadata": {},
   "source": [
    "### Player Goal Involvement"
   ]
  },
  {
   "cell_type": "code",
   "execution_count": 40,
   "metadata": {},
   "outputs": [],
   "source": [
    "goalCont = leverkusenDF[(leverkusenDF['shot_outcome'] == 'Goal') | (leverkusenDF['pass_goal_assist'] == True)]\n",
    "goalCntDF = goalCont[['id','match_id','minute','player','player_id','shot_body_part',\n",
    "        'shot_outcome', 'shot_statsbomb_xg','location_x', 'location_y','shot_end_location_x',\n",
    "        'shot_end_location_y', 'shot_end_location_z','pass_goal_assist','pass_end_location_x','pass_end_location_y']].reset_index(drop=True)\n",
    "goalCntDF['player_id'] = goalCntDF['player_id'].astype(int)\n",
    "goalCntDF['goal_outcome'] = goalCntDF.apply(\n",
    "    lambda row: row['shot_outcome'] if pd.notna(row['shot_outcome']) else ('Assist' if row['pass_goal_assist'] else None),\n",
    "    axis=1\n",
    ")\n",
    "def shotdistance(row):\n",
    "    if row['goal_outcome'] == 'Goal':\n",
    "        # Store the location\n",
    "        x_start = float(row['location_x'])\n",
    "        y_start = float(row['location_y'])\n",
    "        z_start = 0.0\n",
    "\n",
    "        start_location = np.array([x_start, y_start, z_start])\n",
    "\n",
    "        # End location\n",
    "        x_end = float(row['shot_end_location_x'])\n",
    "        y_end = float(row['shot_end_location_y'])\n",
    "        z_end = float(row['shot_end_location_z'])\n",
    "\n",
    "        end_location = np.array([x_end, y_end, z_end])\n",
    "\n",
    "        # Calculate the distance\n",
    "        sq_distance = np.sum((start_location - end_location) ** 2, axis=0)\n",
    "        distance = np.sqrt(sq_distance)\n",
    "        return distance\n",
    "    else:\n",
    "        return None\n",
    "\n",
    "goalCntDF['distance'] = goalCntDF.apply(shotdistance, axis=1)\n",
    "#goalCntDF.to_csv(r'./GoalContribution.csv', index=False)"
   ]
  },
  {
   "cell_type": "markdown",
   "metadata": {},
   "source": [
    "## Cumulative Dashboard"
   ]
  },
  {
   "cell_type": "code",
   "execution_count": 41,
   "metadata": {},
   "outputs": [],
   "source": [
    "leverkusenDF = events_df[events_df['team'] == team]\n",
    "goalFor = leverkusenDF[leverkusenDF['shot_outcome'] == 'Goal']\n",
    "gf = goalFor.groupby('minute').count()['id'].reset_index(name='count')\n",
    "#gf.to_csv(r'./GoalForMinutes.csv', index=False)\n",
    "\n",
    "opponent = events_df[events_df['team'] != team]\n",
    "goalAgainst = opponent[opponent['shot_outcome'] == 'Goal']\n",
    "ga = goalAgainst.groupby('minute').count()['id'].reset_index(name='count')\n",
    "#ga.to_csv(r'./GoalAgainstMinutes.csv', index=False)"
   ]
  },
  {
   "cell_type": "code",
   "execution_count": null,
   "metadata": {},
   "outputs": [
    {
     "data": {
      "text/plain": [
       "(86, 116)"
      ]
     },
     "execution_count": 56,
     "metadata": {},
     "output_type": "execute_result"
    }
   ],
   "source": [
    "goal = leverkusenDF[leverkusenDF['shot_outcome'] == 'Goal']\n",
    "goal.shape"
   ]
  },
  {
   "cell_type": "markdown",
   "metadata": {},
   "source": [
    "### Shot Graph, Stats, xG Plot (For and Against)"
   ]
  },
  {
   "cell_type": "code",
   "execution_count": null,
   "metadata": {},
   "outputs": [],
   "source": [
    "a = events_df[events_df['type'] == 'Shot']\n",
    "sg = a[['id','match_id','minute','player','player_id','shot_body_part',\n",
    "        'shot_outcome', 'shot_statsbomb_xg','pass_goal_assist','team','team_id']].reset_index(drop=True)\n",
    "#sg.to_csv(r'./FullShotmap.csv', index=False)"
   ]
  },
  {
   "cell_type": "code",
   "execution_count": null,
   "metadata": {},
   "outputs": [
    {
     "data": {
      "text/html": [
       "<div>\n",
       "<style scoped>\n",
       "    .dataframe tbody tr th:only-of-type {\n",
       "        vertical-align: middle;\n",
       "    }\n",
       "\n",
       "    .dataframe tbody tr th {\n",
       "        vertical-align: top;\n",
       "    }\n",
       "\n",
       "    .dataframe thead th {\n",
       "        text-align: right;\n",
       "    }\n",
       "</style>\n",
       "<table border=\"1\" class=\"dataframe\">\n",
       "  <thead>\n",
       "    <tr style=\"text-align: right;\">\n",
       "      <th></th>\n",
       "      <th>match_id</th>\n",
       "      <th>team</th>\n",
       "      <th>shot_statsbomb_xg</th>\n",
       "      <th>xFlag</th>\n",
       "    </tr>\n",
       "  </thead>\n",
       "  <tbody>\n",
       "    <tr>\n",
       "      <th>0</th>\n",
       "      <td>3895052</td>\n",
       "      <td>Bayer Leverkusen</td>\n",
       "      <td>1.523364</td>\n",
       "      <td>xG Created</td>\n",
       "    </tr>\n",
       "    <tr>\n",
       "      <th>1</th>\n",
       "      <td>3895052</td>\n",
       "      <td>RB Leipzig</td>\n",
       "      <td>1.722110</td>\n",
       "      <td>xG Conceded</td>\n",
       "    </tr>\n",
       "    <tr>\n",
       "      <th>2</th>\n",
       "      <td>3895060</td>\n",
       "      <td>Bayer Leverkusen</td>\n",
       "      <td>2.719871</td>\n",
       "      <td>xG Created</td>\n",
       "    </tr>\n",
       "    <tr>\n",
       "      <th>3</th>\n",
       "      <td>3895060</td>\n",
       "      <td>Borussia Mönchengladbach</td>\n",
       "      <td>0.799265</td>\n",
       "      <td>xG Conceded</td>\n",
       "    </tr>\n",
       "    <tr>\n",
       "      <th>4</th>\n",
       "      <td>3895067</td>\n",
       "      <td>Bayer Leverkusen</td>\n",
       "      <td>3.304641</td>\n",
       "      <td>xG Created</td>\n",
       "    </tr>\n",
       "    <tr>\n",
       "      <th>...</th>\n",
       "      <td>...</td>\n",
       "      <td>...</td>\n",
       "      <td>...</td>\n",
       "      <td>...</td>\n",
       "    </tr>\n",
       "    <tr>\n",
       "      <th>63</th>\n",
       "      <td>3895333</td>\n",
       "      <td>Eintracht Frankfurt</td>\n",
       "      <td>1.441534</td>\n",
       "      <td>xG Conceded</td>\n",
       "    </tr>\n",
       "    <tr>\n",
       "      <th>64</th>\n",
       "      <td>3895340</td>\n",
       "      <td>Bayer Leverkusen</td>\n",
       "      <td>4.301661</td>\n",
       "      <td>xG Created</td>\n",
       "    </tr>\n",
       "    <tr>\n",
       "      <th>65</th>\n",
       "      <td>3895340</td>\n",
       "      <td>Bochum</td>\n",
       "      <td>0.314100</td>\n",
       "      <td>xG Conceded</td>\n",
       "    </tr>\n",
       "    <tr>\n",
       "      <th>66</th>\n",
       "      <td>3895348</td>\n",
       "      <td>Augsburg</td>\n",
       "      <td>0.780332</td>\n",
       "      <td>xG Conceded</td>\n",
       "    </tr>\n",
       "    <tr>\n",
       "      <th>67</th>\n",
       "      <td>3895348</td>\n",
       "      <td>Bayer Leverkusen</td>\n",
       "      <td>2.164920</td>\n",
       "      <td>xG Created</td>\n",
       "    </tr>\n",
       "  </tbody>\n",
       "</table>\n",
       "<p>68 rows × 4 columns</p>\n",
       "</div>"
      ],
      "text/plain": [
       "    match_id                      team  shot_statsbomb_xg        xFlag\n",
       "0    3895052          Bayer Leverkusen           1.523364   xG Created\n",
       "1    3895052                RB Leipzig           1.722110  xG Conceded\n",
       "2    3895060          Bayer Leverkusen           2.719871   xG Created\n",
       "3    3895060  Borussia Mönchengladbach           0.799265  xG Conceded\n",
       "4    3895067          Bayer Leverkusen           3.304641   xG Created\n",
       "..       ...                       ...                ...          ...\n",
       "63   3895333       Eintracht Frankfurt           1.441534  xG Conceded\n",
       "64   3895340          Bayer Leverkusen           4.301661   xG Created\n",
       "65   3895340                    Bochum           0.314100  xG Conceded\n",
       "66   3895348                  Augsburg           0.780332  xG Conceded\n",
       "67   3895348          Bayer Leverkusen           2.164920   xG Created\n",
       "\n",
       "[68 rows x 4 columns]"
      ]
     },
     "execution_count": 41,
     "metadata": {},
     "output_type": "execute_result"
    }
   ],
   "source": [
    "xg_df = events_df\n",
    "a = xg_df[['match_id','team','shot_statsbomb_xg','shot_outcome']]\n",
    "b = a.groupby(['match_id','team']).sum('shot_statsbomb_xg').reset_index()\n",
    "c = b.sort_values('match_id')\n",
    "\n",
    "\n",
    "def xflag(row):\n",
    "    if row['team'] == team:\n",
    "        return 'xG Created'\n",
    "    elif row['team'] != team:\n",
    "        return 'xG Conceded'\n",
    "    else:\n",
    "        return None\n",
    "\n",
    "c['xFlag'] = c.apply(xflag, axis = 1)\n",
    "c"
   ]
  }
 ],
 "metadata": {
  "kernelspec": {
   "display_name": "Python 3",
   "language": "python",
   "name": "python3"
  },
  "language_info": {
   "codemirror_mode": {
    "name": "ipython",
    "version": 3
   },
   "file_extension": ".py",
   "mimetype": "text/x-python",
   "name": "python",
   "nbconvert_exporter": "python",
   "pygments_lexer": "ipython3",
   "version": "3.12.3"
  }
 },
 "nbformat": 4,
 "nbformat_minor": 2
}
